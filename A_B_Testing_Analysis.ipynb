{
  "nbformat": 4,
  "nbformat_minor": 0,
  "metadata": {
    "colab": {
      "provenance": [],
      "authorship_tag": "ABX9TyNhikDdYgunUAuti3VbywCC",
      "include_colab_link": true
    },
    "kernelspec": {
      "name": "python3",
      "display_name": "Python 3"
    },
    "language_info": {
      "name": "python"
    }
  },
  "cells": [
    {
      "cell_type": "markdown",
      "metadata": {
        "id": "view-in-github",
        "colab_type": "text"
      },
      "source": [
        "<a href=\"https://colab.research.google.com/github/lokesh89414/A-B-Testing-Analysis/blob/main/A_B_Testing_Analysis.ipynb\" target=\"_parent\"><img src=\"https://colab.research.google.com/assets/colab-badge.svg\" alt=\"Open In Colab\"/></a>"
      ]
    },
    {
      "cell_type": "code",
      "execution_count": 1,
      "metadata": {
        "colab": {
          "base_uri": "https://localhost:8080/"
        },
        "id": "vaPMOJEvq-wb",
        "outputId": "9433b549-4077-42af-ee27-695fa1abcf56"
      },
      "outputs": [
        {
          "output_type": "stream",
          "name": "stdout",
          "text": [
            "   userid  version  sum_gamerounds  retention_1  retention_7\n",
            "0     116  gate_30               3        False        False\n",
            "1     337  gate_30              38         True        False\n",
            "2     377  gate_40             165         True        False\n",
            "3     483  gate_40               1        False        False\n",
            "4     488  gate_40             179         True         True\n",
            "userid            0\n",
            "version           0\n",
            "sum_gamerounds    0\n",
            "retention_1       0\n",
            "retention_7       0\n",
            "dtype: int64\n",
            "Accuracy: 0.8679454484976161\n",
            "              precision    recall  f1-score   support\n",
            "\n",
            "       False       0.89      0.95      0.92     14661\n",
            "        True       0.71      0.49      0.58      3377\n",
            "\n",
            "    accuracy                           0.87     18038\n",
            "   macro avg       0.80      0.72      0.75     18038\n",
            "weighted avg       0.86      0.87      0.86     18038\n",
            "\n",
            "version\n",
            "gate_30    0.130694\n",
            "gate_40    0.126910\n",
            "Name: predicted_retention, dtype: float64\n",
            "The better version is: gate_30\n"
          ]
        },
        {
          "output_type": "execute_result",
          "data": {
            "text/plain": [
              "['preprocessor.pkl']"
            ]
          },
          "metadata": {},
          "execution_count": 1
        }
      ],
      "source": [
        "import pandas as pd\n",
        "import joblib\n",
        "import numpy as np\n",
        "from sklearn.model_selection import train_test_split\n",
        "from sklearn.preprocessing import StandardScaler, OneHotEncoder\n",
        "from sklearn.compose import ColumnTransformer\n",
        "from sklearn.pipeline import Pipeline\n",
        "from sklearn.impute import SimpleImputer\n",
        "\n",
        "data = pd.read_csv('ab_test_data.csv')\n",
        "print(data.head())\n",
        "print(data.isnull().sum())\n",
        "data.dropna(inplace=True)\n",
        "\n",
        "X = data.drop(columns=['userid'])\n",
        "y = data['retention_7']\n",
        "\n",
        "X_train, X_test, y_train, y_test = train_test_split(X, y, test_size=0.2, random_state=42)\n",
        "\n",
        "numeric_features = ['sum_gamerounds']\n",
        "categorical_features = ['version', 'retention_1']\n",
        "\n",
        "numeric_transformer = Pipeline(steps=[\n",
        "    ('imputer', SimpleImputer(strategy='median')),\n",
        "    ('scaler', StandardScaler())\n",
        "])\n",
        "\n",
        "categorical_transformer = Pipeline(steps=[\n",
        "    ('imputer', SimpleImputer(strategy='constant', fill_value='missing')),\n",
        "    ('onehot', OneHotEncoder(handle_unknown='ignore'))\n",
        "])\n",
        "\n",
        "preprocessor = ColumnTransformer(\n",
        "    transformers=[\n",
        "        ('num', numeric_transformer, numeric_features),\n",
        "        ('cat', categorical_transformer, categorical_features)\n",
        "    ])\n",
        "\n",
        "X_train = preprocessor.fit_transform(X_train)\n",
        "X_test = preprocessor.transform(X_test)\n",
        "\n",
        "from sklearn.ensemble import RandomForestClassifier\n",
        "from sklearn.metrics import classification_report, accuracy_score\n",
        "\n",
        "model = RandomForestClassifier(random_state=42)\n",
        "\n",
        "model.fit(X_train, y_train)\n",
        "\n",
        "y_pred = model.predict(X_test)\n",
        "\n",
        "print(f\"Accuracy: {accuracy_score(y_test, y_pred)}\")\n",
        "print(classification_report(y_test, y_pred))\n",
        "\n",
        "\n",
        "X_test_with_version = data.drop(columns=['userid', 'retention_7'])\n",
        "y_test_actual = data['retention_7']\n",
        "\n",
        "\n",
        "X_test_preprocessed = preprocessor.transform(X_test_with_version)\n",
        "y_test_pred = model.predict(X_test_preprocessed)\n",
        "\n",
        "X_test_with_version['predicted_retention'] = y_test_pred\n",
        "\n",
        "retention_rate_version = X_test_with_version.groupby('version')['predicted_retention'].mean()\n",
        "\n",
        "print(retention_rate_version)\n",
        "\n",
        "better_version = retention_rate_version.idxmax()\n",
        "print(f\"The better version is: {better_version}\")\n",
        "\n",
        "joblib.dump(model, 'ab_test_model.pkl')\n",
        "joblib.dump(preprocessor, 'preprocessor.pkl')"
      ]
    }
  ]
}